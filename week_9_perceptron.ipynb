{
  "nbformat": 4,
  "nbformat_minor": 0,
  "metadata": {
    "colab": {
      "provenance": [],
      "authorship_tag": "ABX9TyMhfBXLTqeWbtD09rhQ4zNA",
      "include_colab_link": true
    },
    "kernelspec": {
      "name": "python3",
      "display_name": "Python 3"
    },
    "language_info": {
      "name": "python"
    }
  },
  "cells": [
    {
      "cell_type": "markdown",
      "metadata": {
        "id": "view-in-github",
        "colab_type": "text"
      },
      "source": [
        "<a href=\"https://colab.research.google.com/github/naveen-ramavath/machine-learning/blob/main/week_9_perceptron.ipynb\" target=\"_parent\"><img src=\"https://colab.research.google.com/assets/colab-badge.svg\" alt=\"Open In Colab\"/></a>"
      ]
    },
    {
      "cell_type": "markdown",
      "source": [
        "### perceptron simple code with single neuron"
      ],
      "metadata": {
        "id": "DDXV-r-ThKRm"
      }
    },
    {
      "cell_type": "code",
      "execution_count": 1,
      "metadata": {
        "colab": {
          "base_uri": "https://localhost:8080/"
        },
        "id": "n91Z93VCdvIy",
        "outputId": "476174c1-38e1-403a-9955-67f0a2df139a"
      },
      "outputs": [
        {
          "output_type": "stream",
          "name": "stdout",
          "text": [
            "0.9990889488055994\n"
          ]
        }
      ],
      "source": [
        "import numpy as np\n",
        "\n",
        "def sigmoid(x):\n",
        "  # Our activation function: f(x) = 1 / (1 + e^(-x))\n",
        "  return 1 / (1 + np.exp(-x))\n",
        "\n",
        "class Neuron:\n",
        "  def __init__(self, weights, bias):\n",
        "    self.weights = weights\n",
        "    self.bias = bias\n",
        "\n",
        "  def feedforward(self, inputs):\n",
        "    # Weight inputs, add bias, then use the activation function\n",
        "    total = np.dot(self.weights, inputs) + self.bias\n",
        "    return sigmoid(total)\n",
        "\n",
        "weights = np.array([0, 1]) # w1 = 0, w2 = 1\n",
        "bias = 4                   # b = 4\n",
        "n = Neuron(weights, bias)\n",
        "\n",
        "x = np.array([2, 3])       # x1 = 2, x2 = 3\n",
        "print(n.feedforward(x))    # 0.9990889488055994\n"
      ]
    },
    {
      "cell_type": "markdown",
      "source": [
        "trains the perceptron"
      ],
      "metadata": {
        "id": "ond9LoEyhgkF"
      }
    },
    {
      "cell_type": "code",
      "source": [
        "import numpy as np\n",
        "\n",
        "# Step 1: Input (X) and Output (Y)\n",
        "X = np.array([\n",
        "    [0, 0],\n",
        "    [0, 1],\n",
        "    [1, 0],\n",
        "    [1, 1]\n",
        "])\n",
        "Y = np.array([[0], [0], [0], [1]])\n",
        "\n",
        "# Step 2: Initialize weights and bias\n",
        "weights = np.random.rand(2, 1)\n",
        "bias = np.random.rand(1)\n",
        "learning_rate = 0.1\n",
        "\n",
        "# Step 3: Define sigmoid and its derivative\n",
        "def sigmoid(x):\n",
        "    return 1 / (1 + np.exp(-x))\n",
        "\n",
        "def sigmoid_derivative(x):\n",
        "    return x * (1 - x)\n",
        "\n",
        "# Step 4: Train the perceptron\n",
        "for epoch in range(10000):\n",
        "    # Forward pass\n",
        "    z = np.dot(X, weights) + bias\n",
        "    output = sigmoid(z)\n",
        "\n",
        "    # Calculate error\n",
        "    error = Y - output\n",
        "\n",
        "    # Backpropagation (update weights and bias)\n",
        "    d_output = error * sigmoid_derivative(output)\n",
        "    weights += np.dot(X.T, d_output) * learning_rate\n",
        "    bias += np.sum(d_output) * learning_rate\n",
        "\n",
        "# Step 5: Test final output\n",
        "print(\"Final output after training:\")\n",
        "print(np.round(output))\n"
      ],
      "metadata": {
        "colab": {
          "base_uri": "https://localhost:8080/"
        },
        "id": "8zdHf2CahX-k",
        "outputId": "92989e05-b8d9-40fb-ea57-4916c92e3b3c"
      },
      "execution_count": 2,
      "outputs": [
        {
          "output_type": "stream",
          "name": "stdout",
          "text": [
            "Final output after training:\n",
            "[[0.]\n",
            " [0.]\n",
            " [0.]\n",
            " [1.]]\n"
          ]
        }
      ]
    },
    {
      "cell_type": "markdown",
      "source": [
        "2.Perceptron with activation Function with AND, OR (linear data), XOR (non linear data)"
      ],
      "metadata": {
        "id": "Vw1yhZcijWqk"
      }
    },
    {
      "cell_type": "code",
      "source": [
        "import numpy as np\n"
      ],
      "metadata": {
        "id": "kN-_gjKihqZs"
      },
      "execution_count": 3,
      "outputs": []
    },
    {
      "cell_type": "code",
      "source": [
        "def step_function(x):\n",
        "    return 1 if x >= 0 else 0\n"
      ],
      "metadata": {
        "id": "s-4irgk9kGWM"
      },
      "execution_count": 4,
      "outputs": []
    },
    {
      "cell_type": "code",
      "source": [
        "class Perceptron:\n",
        "    def __init__(self, learning_rate=0.1, epochs=10):\n",
        "        self.lr = learning_rate\n",
        "        self.epochs = epochs\n",
        "        self.weights = None\n",
        "        self.bias = None\n",
        "\n",
        "    def activation(self, x):\n",
        "        return 1 if x >= 0 else 0\n",
        "\n",
        "    def train(self, X, Y):\n",
        "        # Initialize weights and bias\n",
        "        self.weights = np.zeros(X.shape[1])\n",
        "        self.bias = 0\n",
        "\n",
        "        for _ in range(self.epochs):\n",
        "            for i in range(len(X)):\n",
        "                z = np.dot(X[i], self.weights) + self.bias\n",
        "                y_pred = self.activation(z)\n",
        "                error = Y[i] - y_pred\n",
        "\n",
        "                # Update weights & bias\n",
        "                self.weights += self.lr * error * X[i]\n",
        "                self.bias += self.lr * error\n",
        "\n",
        "    def predict(self, X):\n",
        "        z = np.dot(X, self.weights) + self.bias\n",
        "        return np.array([self.activation(i) for i in z])\n"
      ],
      "metadata": {
        "id": "-MdYwfhMkHZt"
      },
      "execution_count": 5,
      "outputs": []
    },
    {
      "cell_type": "code",
      "source": [
        "# Input and output for AND\n",
        "X = np.array([[0,0], [0,1], [1,0], [1,1]])\n",
        "Y = np.array([0, 0, 0, 1])\n",
        "\n",
        "p = Perceptron()\n",
        "p.train(X, Y)\n",
        "print(\"AND Predictions:\", p.predict(X))\n"
      ],
      "metadata": {
        "colab": {
          "base_uri": "https://localhost:8080/"
        },
        "id": "XORXyVCnlSbc",
        "outputId": "9a990213-d7b1-472b-de2c-b027ae641cf0"
      },
      "execution_count": 6,
      "outputs": [
        {
          "output_type": "stream",
          "name": "stdout",
          "text": [
            "AND Predictions: [0 0 0 1]\n"
          ]
        }
      ]
    },
    {
      "cell_type": "code",
      "source": [
        "# Input and output for OR\n",
        "X = np.array([[0,0], [0,1], [1,0], [1,1]])\n",
        "Y = np.array([0, 1, 1, 1])\n",
        "\n",
        "p = Perceptron()\n",
        "p.train(X, Y)\n",
        "print(\"OR Predictions:\", p.predict(X))\n"
      ],
      "metadata": {
        "colab": {
          "base_uri": "https://localhost:8080/"
        },
        "id": "QsP1AgjWlaP1",
        "outputId": "b45dd3ef-b831-4b3a-c3b9-7de795dc1798"
      },
      "execution_count": 7,
      "outputs": [
        {
          "output_type": "stream",
          "name": "stdout",
          "text": [
            "OR Predictions: [0 1 1 1]\n"
          ]
        }
      ]
    },
    {
      "cell_type": "code",
      "source": [
        "# Input and output for XOR\n",
        "X = np.array([[0,0], [0,1], [1,0], [1,1]])\n",
        "Y = np.array([0, 1, 1, 0])\n",
        "\n",
        "p = Perceptron()\n",
        "p.train(X, Y)\n",
        "print(\"XOR Predictions:\", p.predict(X))\n"
      ],
      "metadata": {
        "colab": {
          "base_uri": "https://localhost:8080/"
        },
        "id": "UYv63BN1l2p0",
        "outputId": "09e95651-e386-4694-faa6-95927be6e92a"
      },
      "execution_count": 8,
      "outputs": [
        {
          "output_type": "stream",
          "name": "stdout",
          "text": [
            "XOR Predictions: [1 1 0 0]\n"
          ]
        }
      ]
    },
    {
      "cell_type": "markdown",
      "source": [
        "multi layer perceptron"
      ],
      "metadata": {
        "id": "6zlq0rGzpV50"
      }
    },
    {
      "cell_type": "code",
      "source": [
        "import numpy as np\n",
        "\n",
        "# Sigmoid and derivative\n",
        "sig = lambda x: 1/(1+np.exp(-x))\n",
        "dsig = lambda x: x*(1-x)\n",
        "\n",
        "# XOR Data\n",
        "X = np.array([[0,0],[0,1],[1,0],[1,1]])\n",
        "Y = np.array([[0],[1],[1],[0]])\n",
        "\n",
        "# Initialize weights\n",
        "wh = np.random.rand(2,2)\n",
        "bh = np.random.rand(1,2)\n",
        "wout = np.random.rand(2,1)\n",
        "bout = np.random.rand(1,1)\n",
        "\n",
        "lr = 0.5\n",
        "\n",
        "# Train\n",
        "for _ in range(10000):\n",
        "    h = sig(np.dot(X,wh)+bh)\n",
        "    out = sig(np.dot(h,wout)+bout)\n",
        "    e = Y - out\n",
        "    out_delta = e*dsig(out)\n",
        "    h_delta = out_delta.dot(wout.T)*dsig(h)\n",
        "    wout += h.T.dot(out_delta)*lr\n",
        "    bout += np.sum(out_delta,axis=0,keepdims=True)*lr\n",
        "    wh += X.T.dot(h_delta)*lr\n",
        "    bh += np.sum(h_delta,axis=0,keepdims=True)*lr\n",
        "\n",
        "print(\"XOR Output:\")\n",
        "print(np.round(out))\n"
      ],
      "metadata": {
        "colab": {
          "base_uri": "https://localhost:8080/"
        },
        "id": "EKUTBK0GpZSk",
        "outputId": "39d16a7d-f7e0-4c95-b3fa-8ba4b5ad27da"
      },
      "execution_count": 10,
      "outputs": [
        {
          "output_type": "stream",
          "name": "stdout",
          "text": [
            "XOR Output:\n",
            "[[0.]\n",
            " [1.]\n",
            " [1.]\n",
            " [0.]]\n"
          ]
        }
      ]
    }
  ]
}